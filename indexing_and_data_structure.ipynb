{
 "cells": [
  {
   "cell_type": "markdown",
   "id": "d3bf8ee8-777a-4575-9879-1ffe077bf486",
   "metadata": {},
   "source": [
    "# Indexing"
   ]
  },
  {
   "cell_type": "code",
   "execution_count": 3,
   "id": "0b029faa-cb57-4b7f-a19a-21f048381b90",
   "metadata": {},
   "outputs": [
    {
     "data": {
      "text/plain": [
       "'Samosa Pakora'"
      ]
     },
     "execution_count": 3,
     "metadata": {},
     "output_type": "execute_result"
    }
   ],
   "source": [
    "a = \"Samosa Pakora\"\n",
    "a"
   ]
  },
  {
   "cell_type": "code",
   "execution_count": 4,
   "id": "ac61b81f-f00d-40ef-ba4a-cf4a5b24e78d",
   "metadata": {},
   "outputs": [
    {
     "data": {
      "text/plain": [
       "'Samosa Pakora'"
      ]
     },
     "execution_count": 4,
     "metadata": {},
     "output_type": "execute_result"
    }
   ],
   "source": [
    "a"
   ]
  },
  {
   "cell_type": "code",
   "execution_count": 5,
   "id": "9cc52a58-cbeb-4f66-ac68-e4b21c3b359b",
   "metadata": {},
   "outputs": [
    {
     "data": {
      "text/plain": [
       "13"
      ]
     },
     "execution_count": 5,
     "metadata": {},
     "output_type": "execute_result"
    }
   ],
   "source": [
    "# length of indeces\n",
    "len(a)"
   ]
  },
  {
   "cell_type": "code",
   "execution_count": 6,
   "id": "34b22c91-518e-487c-9dc1-68a3e7adfc19",
   "metadata": {},
   "outputs": [
    {
     "data": {
      "text/plain": [
       "'S'"
      ]
     },
     "execution_count": 6,
     "metadata": {},
     "output_type": "execute_result"
    }
   ],
   "source": [
    "a[0]"
   ]
  },
  {
   "cell_type": "code",
   "execution_count": 7,
   "id": "5d84a6e1-5d32-4af1-a956-5aad52750df8",
   "metadata": {},
   "outputs": [
    {
     "data": {
      "text/plain": [
       "'s'"
      ]
     },
     "execution_count": 7,
     "metadata": {},
     "output_type": "execute_result"
    }
   ],
   "source": [
    "a[4]"
   ]
  },
  {
   "cell_type": "code",
   "execution_count": 8,
   "id": "3cd64bdd-2b21-4edc-beac-e2ec224c3453",
   "metadata": {},
   "outputs": [
    {
     "data": {
      "text/plain": [
       "'a'"
      ]
     },
     "execution_count": 8,
     "metadata": {},
     "output_type": "execute_result"
    }
   ],
   "source": [
    "a[8]"
   ]
  },
  {
   "cell_type": "code",
   "execution_count": 17,
   "id": "cd28ad23-665a-4f02-ae4c-641c1ba16e1b",
   "metadata": {},
   "outputs": [
    {
     "data": {
      "text/plain": [
       "'Samosa'"
      ]
     },
     "execution_count": 17,
     "metadata": {},
     "output_type": "execute_result"
    }
   ],
   "source": [
    "# last index is exclusive\n",
    "a[0:6]"
   ]
  },
  {
   "cell_type": "code",
   "execution_count": 10,
   "id": "668e6307-70e7-4641-8066-f3e6801f4755",
   "metadata": {},
   "outputs": [
    {
     "data": {
      "text/plain": [
       "'Samosa Pakora'"
      ]
     },
     "execution_count": 10,
     "metadata": {},
     "output_type": "execute_result"
    }
   ],
   "source": [
    "a[0:13]"
   ]
  },
  {
   "cell_type": "code",
   "execution_count": 18,
   "id": "c0467aab-eb2a-4132-9cd7-a55db6e44c94",
   "metadata": {},
   "outputs": [
    {
     "data": {
      "text/plain": [
       "'P'"
      ]
     },
     "execution_count": 18,
     "metadata": {},
     "output_type": "execute_result"
    }
   ],
   "source": [
    "a[-6]"
   ]
  },
  {
   "cell_type": "code",
   "execution_count": 13,
   "id": "c22bc5be-4030-45aa-bb68-6c5e1c4694cd",
   "metadata": {},
   "outputs": [
    {
     "data": {
      "text/plain": [
       "'Pakor'"
      ]
     },
     "execution_count": 13,
     "metadata": {},
     "output_type": "execute_result"
    }
   ],
   "source": [
    "a[-6:-1]"
   ]
  },
  {
   "cell_type": "code",
   "execution_count": 14,
   "id": "674df63e-dde5-434f-8860-c9bc9d6381ef",
   "metadata": {},
   "outputs": [
    {
     "data": {
      "text/plain": [
       "''"
      ]
     },
     "execution_count": 14,
     "metadata": {},
     "output_type": "execute_result"
    }
   ],
   "source": [
    "a[-6:0]"
   ]
  },
  {
   "cell_type": "code",
   "execution_count": 15,
   "id": "ceb0bda7-940e-488b-851c-0e0ecf4f9855",
   "metadata": {},
   "outputs": [
    {
     "data": {
      "text/plain": [
       "'Pakora'"
      ]
     },
     "execution_count": 15,
     "metadata": {},
     "output_type": "execute_result"
    }
   ],
   "source": [
    "a[-6:13]"
   ]
  },
  {
   "cell_type": "code",
   "execution_count": 19,
   "id": "4ff4f400-d906-4c09-b646-dd0c2ecb23bf",
   "metadata": {},
   "outputs": [
    {
     "data": {
      "text/plain": [
       "' Pakora'"
      ]
     },
     "execution_count": 19,
     "metadata": {},
     "output_type": "execute_result"
    }
   ],
   "source": [
    "a[6:13]"
   ]
  },
  {
   "cell_type": "code",
   "execution_count": 21,
   "id": "b41e3b4f-17df-47c8-9f6e-119621704ed0",
   "metadata": {},
   "outputs": [
    {
     "data": {
      "text/plain": [
       "'biryani'"
      ]
     },
     "execution_count": 21,
     "metadata": {},
     "output_type": "execute_result"
    }
   ],
   "source": [
    "food=\"biryani\"\n",
    "food"
   ]
  },
  {
   "cell_type": "markdown",
   "id": "c6346452-c175-4f48-85e3-3a70eb9ee272",
   "metadata": {},
   "source": [
    "# Strings Method"
   ]
  },
  {
   "cell_type": "code",
   "execution_count": 23,
   "id": "5004bf02-d27e-4cb1-9783-99cd57577636",
   "metadata": {},
   "outputs": [
    {
     "data": {
      "text/plain": [
       "7"
      ]
     },
     "execution_count": 23,
     "metadata": {},
     "output_type": "execute_result"
    }
   ],
   "source": [
    "len(food)"
   ]
  },
  {
   "cell_type": "code",
   "execution_count": 24,
   "id": "08162a46-6c2d-4610-b57e-8433f2c079dc",
   "metadata": {},
   "outputs": [
    {
     "data": {
      "text/plain": [
       "'Biryani'"
      ]
     },
     "execution_count": 24,
     "metadata": {},
     "output_type": "execute_result"
    }
   ],
   "source": [
    "# capitalize every element\n",
    "food.capitalize()"
   ]
  },
  {
   "cell_type": "code",
   "execution_count": 25,
   "id": "4718bd21-5b33-4e1a-b352-56d2d411faa6",
   "metadata": {},
   "outputs": [
    {
     "data": {
      "text/plain": [
       "'BIRYANI'"
      ]
     },
     "execution_count": 25,
     "metadata": {},
     "output_type": "execute_result"
    }
   ],
   "source": [
    "# uppercase Letters\n",
    "food.upper()"
   ]
  },
  {
   "cell_type": "code",
   "execution_count": 26,
   "id": "b1ea76fa-8333-40a3-a594-b2c00f09bc52",
   "metadata": {},
   "outputs": [
    {
     "data": {
      "text/plain": [
       "'biryani'"
      ]
     },
     "execution_count": 26,
     "metadata": {},
     "output_type": "execute_result"
    }
   ],
   "source": [
    "# lowercase Letters\n",
    "food.lower()"
   ]
  },
  {
   "cell_type": "code",
   "execution_count": 33,
   "id": "282c1db1-bac8-472e-9efe-c9f6ff149ec9",
   "metadata": {},
   "outputs": [
    {
     "data": {
      "text/plain": [
       "'shiryani'"
      ]
     },
     "execution_count": 33,
     "metadata": {},
     "output_type": "execute_result"
    }
   ],
   "source": [
    "# replace\n",
    "food.replace(\"b\", \"sh\")"
   ]
  },
  {
   "cell_type": "code",
   "execution_count": 35,
   "id": "b4113c9d-e674-4321-a4e2-3271086def08",
   "metadata": {},
   "outputs": [
    {
     "data": {
      "text/plain": [
       "'baba_Aammar with Tajammal Hussain'"
      ]
     },
     "execution_count": 35,
     "metadata": {},
     "output_type": "execute_result"
    }
   ],
   "source": [
    "#counting a specific alphabet in a string\n",
    "name=\"baba_Aammar with Tajammal Hussain\"\n",
    "name"
   ]
  },
  {
   "cell_type": "code",
   "execution_count": 41,
   "id": "4207677a-6463-45e1-81c6-2931ee9f4283",
   "metadata": {},
   "outputs": [
    {
     "data": {
      "text/plain": [
       "1"
      ]
     },
     "execution_count": 41,
     "metadata": {},
     "output_type": "execute_result"
    }
   ],
   "source": [
    "name.count(\"t\")"
   ]
  },
  {
   "cell_type": "markdown",
   "id": "176c55a2-4264-4bfe-9db5-ab083d7bd412",
   "metadata": {},
   "source": [
    "## finding an index number in a string"
   ]
  },
  {
   "cell_type": "code",
   "execution_count": 42,
   "id": "b34028b7-7562-40fc-8d43-4e39b7c43ad4",
   "metadata": {},
   "outputs": [
    {
     "data": {
      "text/plain": [
       "'baba_Aammar with Tajammal Hussain'"
      ]
     },
     "execution_count": 42,
     "metadata": {},
     "output_type": "execute_result"
    }
   ],
   "source": [
    "name=\"baba_Aammar with Tajammal Hussain\"\n",
    "name"
   ]
  },
  {
   "cell_type": "code",
   "execution_count": 51,
   "id": "c76015b9-b95c-4992-a9be-684eca26b354",
   "metadata": {},
   "outputs": [
    {
     "data": {
      "text/plain": [
       "28"
      ]
     },
     "execution_count": 51,
     "metadata": {},
     "output_type": "execute_result"
    }
   ],
   "source": [
    "name.find(\"ss\")"
   ]
  },
  {
   "cell_type": "markdown",
   "id": "c4e2f10e-847d-45c7-8659-1b7059638d93",
   "metadata": {},
   "source": [
    "-- how to split a string"
   ]
  },
  {
   "cell_type": "code",
   "execution_count": 52,
   "id": "bacae5b6-266b-4d44-a778-4a494fffa506",
   "metadata": {},
   "outputs": [
    {
     "data": {
      "text/plain": [
       "'I love Samosa, Pakora, Raita, Biryani and Karahi.'"
      ]
     },
     "execution_count": 52,
     "metadata": {},
     "output_type": "execute_result"
    }
   ],
   "source": [
    "food=\"I love Samosa, Pakora, Raita, Biryani and Karahi.\"\n",
    "food"
   ]
  },
  {
   "cell_type": "code",
   "execution_count": 54,
   "id": "193aabca-4c66-4ae3-a989-2a8f4f44e7e5",
   "metadata": {},
   "outputs": [
    {
     "data": {
      "text/plain": [
       "['I love Samosa', ' Pakora', ' Raita', ' Biryani and Karahi.']"
      ]
     },
     "execution_count": 54,
     "metadata": {},
     "output_type": "execute_result"
    }
   ],
   "source": [
    "food.split(\",\")"
   ]
  },
  {
   "cell_type": "markdown",
   "id": "2cddd11f-fe27-4e4c-ac9c-46c90933f3cc",
   "metadata": {},
   "source": [
    "# Basic Data Structure in Python\n",
    "### 1- Tuple\n",
    "### 2- List\n",
    "### 3- Dictioneries\n",
    "### 4- Set"
   ]
  },
  {
   "cell_type": "markdown",
   "id": "b0a35b91-a492-4297-bf3e-c4e3c0f521e2",
   "metadata": {},
   "source": [
    "### 1- Tulip\n",
    "- Ordered collection of elements.\n",
    "- Elements elcosed in \"()\" round braces / parenthises.\n",
    "- Different kind of elements can be stored.\n",
    "- Once elements stored you cannot change them (Unmutateable)"
   ]
  },
  {
   "cell_type": "code",
   "execution_count": 55,
   "id": "64ea78f8-eedf-4bf5-b409-942740204a59",
   "metadata": {},
   "outputs": [
    {
     "data": {
      "text/plain": [
       "(5, 'Tajammal', True, 5.6)"
      ]
     },
     "execution_count": 55,
     "metadata": {},
     "output_type": "execute_result"
    }
   ],
   "source": [
    "tup1 = (5, \"Tajammal\", True, 5.6)\n",
    "tup1"
   ]
  },
  {
   "cell_type": "code",
   "execution_count": 56,
   "id": "9a93e8a6-911b-4d0c-b85c-d73327b45fd5",
   "metadata": {},
   "outputs": [
    {
     "data": {
      "text/plain": [
       "tuple"
      ]
     },
     "execution_count": 56,
     "metadata": {},
     "output_type": "execute_result"
    }
   ],
   "source": [
    "type(tup1)"
   ]
  },
  {
   "cell_type": "markdown",
   "id": "5e4a73a7-40dd-4503-953a-20561aa799c0",
   "metadata": {},
   "source": [
    "### - Indexing in tuple"
   ]
  },
  {
   "cell_type": "code",
   "execution_count": 58,
   "id": "b405edb2-fc9e-4078-96d0-563bd7b18107",
   "metadata": {},
   "outputs": [
    {
     "data": {
      "text/plain": [
       "5"
      ]
     },
     "execution_count": 58,
     "metadata": {},
     "output_type": "execute_result"
    }
   ],
   "source": [
    "tup1[0]"
   ]
  },
  {
   "cell_type": "code",
   "execution_count": 59,
   "id": "1e58dd6e-df7d-441c-8f65-37f0ed46b2b4",
   "metadata": {},
   "outputs": [
    {
     "data": {
      "text/plain": [
       "5.6"
      ]
     },
     "execution_count": 59,
     "metadata": {},
     "output_type": "execute_result"
    }
   ],
   "source": [
    "tup1[3]"
   ]
  },
  {
   "cell_type": "code",
   "execution_count": 62,
   "id": "4b61f430-c3da-4dbc-9cf4-ee7561761386",
   "metadata": {},
   "outputs": [
    {
     "data": {
      "text/plain": [
       "(5, 'Tajammal', True)"
      ]
     },
     "execution_count": 62,
     "metadata": {},
     "output_type": "execute_result"
    }
   ],
   "source": [
    "tup1[0:3] #last element exclusive"
   ]
  },
  {
   "cell_type": "code",
   "execution_count": 65,
   "id": "ca6145e5-d16d-451f-b145-034b2320608e",
   "metadata": {},
   "outputs": [
    {
     "data": {
      "text/plain": [
       "4"
      ]
     },
     "execution_count": 65,
     "metadata": {},
     "output_type": "execute_result"
    }
   ],
   "source": [
    "#count of elements in tuple\n",
    "len(tup1)"
   ]
  },
  {
   "cell_type": "code",
   "execution_count": 66,
   "id": "c05b4af6-d374-4f0c-92ae-bb9f00ee192d",
   "metadata": {},
   "outputs": [
    {
     "data": {
      "text/plain": [
       "(6, 'Hussain', 7.2, False)"
      ]
     },
     "execution_count": 66,
     "metadata": {},
     "output_type": "execute_result"
    }
   ],
   "source": [
    "tup2=(6, \"Hussain\", 7.2, False)\n",
    "tup2"
   ]
  },
  {
   "cell_type": "code",
   "execution_count": 67,
   "id": "46ac9e8d-28c7-4903-a639-d835899dd5f0",
   "metadata": {},
   "outputs": [
    {
     "data": {
      "text/plain": [
       "(5, 'Tajammal', True, 5.6, 6, 'Hussain', 7.2, False)"
      ]
     },
     "execution_count": 67,
     "metadata": {},
     "output_type": "execute_result"
    }
   ],
   "source": [
    "#concatinate (adding two or more tuples)\n",
    "tup1+tup2"
   ]
  },
  {
   "cell_type": "code",
   "execution_count": 75,
   "id": "52f56668-585a-4345-ab1e-0981d2201de6",
   "metadata": {},
   "outputs": [
    {
     "data": {
      "text/plain": [
       "(5, 'Tajammal', True, 5.6, 5, 'Tajammal', True, 5.6, 6, 'Hussain', 7.2, False)"
      ]
     },
     "execution_count": 75,
     "metadata": {},
     "output_type": "execute_result"
    }
   ],
   "source": [
    "#concatinate + repeat\n",
    "tup1*2+tup2"
   ]
  },
  {
   "cell_type": "code",
   "execution_count": 69,
   "id": "0b62a85e-f548-49c4-a4a3-3d2e4bfac3ad",
   "metadata": {},
   "outputs": [
    {
     "data": {
      "text/plain": [
       "(20, 25, 45, 60, 80, 89)"
      ]
     },
     "execution_count": 69,
     "metadata": {},
     "output_type": "execute_result"
    }
   ],
   "source": [
    "tup3=(20,25,45,60,80,89)\n",
    "tup3"
   ]
  },
  {
   "cell_type": "code",
   "execution_count": 70,
   "id": "eae5b82c-9bff-4bfa-aefa-cbade41d1bdb",
   "metadata": {},
   "outputs": [
    {
     "data": {
      "text/plain": [
       "20"
      ]
     },
     "execution_count": 70,
     "metadata": {},
     "output_type": "execute_result"
    }
   ],
   "source": [
    "#minimum value of tuple\n",
    "min(tup3)"
   ]
  },
  {
   "cell_type": "code",
   "execution_count": 71,
   "id": "f61f8af4-2a98-4d84-9f5e-accdd6c4b987",
   "metadata": {},
   "outputs": [
    {
     "data": {
      "text/plain": [
       "89"
      ]
     },
     "execution_count": 71,
     "metadata": {},
     "output_type": "execute_result"
    }
   ],
   "source": [
    "max(tup3)"
   ]
  },
  {
   "cell_type": "code",
   "execution_count": 74,
   "id": "1d00341f-8136-4f05-8d11-fcdf32dca779",
   "metadata": {},
   "outputs": [
    {
     "data": {
      "text/plain": [
       "(20, 25, 45, 60, 80, 89, 20, 25, 45, 60, 80, 89)"
      ]
     },
     "execution_count": 74,
     "metadata": {},
     "output_type": "execute_result"
    }
   ],
   "source": [
    "tup3*2"
   ]
  },
  {
   "cell_type": "markdown",
   "id": "45a92772-cf1c-451c-a10b-0a9d4bca9cac",
   "metadata": {},
   "source": [
    "---"
   ]
  },
  {
   "cell_type": "markdown",
   "id": "20fab660-f12a-44d9-ad99-e19f67384ad2",
   "metadata": {},
   "source": [
    "### 2-Lists\n",
    "- Ordered collection of elements.\n",
    "- Enclosed in square [] braces / brackets.\n",
    "- Mutateable, you can change the elements."
   ]
  },
  {
   "cell_type": "code",
   "execution_count": 76,
   "id": "b52c1602-1fae-403f-8a5f-7a9c75d97976",
   "metadata": {},
   "outputs": [
    {
     "data": {
      "text/plain": [
       "['Tajammal', 'Hussain', 'Samosa Pakora']"
      ]
     },
     "execution_count": 76,
     "metadata": {},
     "output_type": "execute_result"
    }
   ],
   "source": [
    "lst1=[\"Tajammal\", \"Hussain\", \"Samosa Pakora\"]\n",
    "lst1"
   ]
  },
  {
   "cell_type": "code",
   "execution_count": 77,
   "id": "0bf80cf2-ffde-4a7b-9de3-1a3db4dc0ee1",
   "metadata": {},
   "outputs": [
    {
     "data": {
      "text/plain": [
       "3"
      ]
     },
     "execution_count": 77,
     "metadata": {},
     "output_type": "execute_result"
    }
   ],
   "source": [
    "len(lst1)"
   ]
  },
  {
   "cell_type": "code",
   "execution_count": 78,
   "id": "c1e1f2ac-ffca-4c98-abb8-1d415b49744e",
   "metadata": {},
   "outputs": [
    {
     "data": {
      "text/plain": [
       "list"
      ]
     },
     "execution_count": 78,
     "metadata": {},
     "output_type": "execute_result"
    }
   ],
   "source": [
    "type(lst1)"
   ]
  },
  {
   "cell_type": "code",
   "execution_count": 79,
   "id": "608633a8-5f2d-4614-9570-b4f0c79238e3",
   "metadata": {},
   "outputs": [
    {
     "data": {
      "text/plain": [
       "'Samosa Pakora'"
      ]
     },
     "execution_count": 79,
     "metadata": {},
     "output_type": "execute_result"
    }
   ],
   "source": [
    "lst1[2]"
   ]
  },
  {
   "cell_type": "code",
   "execution_count": 81,
   "id": "ad7f8951-9775-4d37-b909-38f947f0df72",
   "metadata": {},
   "outputs": [
    {
     "data": {
      "text/plain": [
       "[5, 7, 'Abubakar', 7.2, False, 592]"
      ]
     },
     "execution_count": 81,
     "metadata": {},
     "output_type": "execute_result"
    }
   ],
   "source": [
    "lst2=[5, 7, \"Abubakar\", 7.2, False, 592]\n",
    "lst2"
   ]
  },
  {
   "cell_type": "code",
   "execution_count": 84,
   "id": "8005b10a-e4e6-43f7-af8f-82871570b489",
   "metadata": {},
   "outputs": [
    {
     "data": {
      "text/plain": [
       "['Tajammal', 'Hussain', 'Samosa Pakora', 5, 7, 'Abubakar', 7.2, False, 592]"
      ]
     },
     "execution_count": 84,
     "metadata": {},
     "output_type": "execute_result"
    }
   ],
   "source": [
    "lst1 + lst2"
   ]
  },
  {
   "cell_type": "code",
   "execution_count": 87,
   "id": "320f711c-26e3-43c3-b8aa-d7dc509fb01a",
   "metadata": {},
   "outputs": [
    {
     "data": {
      "text/plain": [
       "['Tajammal',\n",
       " 'Hussain',\n",
       " 'Samosa Pakora',\n",
       " 'Tajammal',\n",
       " 'Hussain',\n",
       " 'Samosa Pakora']"
      ]
     },
     "execution_count": 87,
     "metadata": {},
     "output_type": "execute_result"
    }
   ],
   "source": [
    "lst1*2"
   ]
  },
  {
   "cell_type": "code",
   "execution_count": 89,
   "id": "3e00008a-3675-410d-8566-0f72f1655a18",
   "metadata": {},
   "outputs": [
    {
     "data": {
      "text/plain": [
       "list"
      ]
     },
     "execution_count": 89,
     "metadata": {},
     "output_type": "execute_result"
    }
   ],
   "source": [
    "type(lst2)"
   ]
  },
  {
   "cell_type": "code",
   "execution_count": 95,
   "id": "c20d7ca3-40ec-44a9-b05d-61307dc1ef00",
   "metadata": {},
   "outputs": [
    {
     "data": {
      "text/plain": [
       "['Tajammal', 'Hussain', 'Chak', 'Sahiwal']"
      ]
     },
     "execution_count": 95,
     "metadata": {},
     "output_type": "execute_result"
    }
   ],
   "source": [
    "lst3=[\"Tajammal\", \"Hussain\", \"Chak\", \"Sahiwal\"]\n",
    "lst3"
   ]
  },
  {
   "cell_type": "code",
   "execution_count": 96,
   "id": "04d29d98-8840-4def-802a-7f323323ae6e",
   "metadata": {},
   "outputs": [
    {
     "data": {
      "text/plain": [
       "['Sahiwal', 'Chak', 'Hussain', 'Tajammal']"
      ]
     },
     "execution_count": 96,
     "metadata": {},
     "output_type": "execute_result"
    }
   ],
   "source": [
    "lst3.reverse()\n",
    "lst3"
   ]
  },
  {
   "cell_type": "code",
   "execution_count": 101,
   "id": "e1741b3c-2994-4492-abd9-3cd29ba39680",
   "metadata": {},
   "outputs": [
    {
     "data": {
      "text/plain": [
       "['Sahiwal',\n",
       " 'Chak',\n",
       " 'Hussain',\n",
       " 'Tajammal',\n",
       " 'Tajammal lives in Sahiwal',\n",
       " 'Tajammal lives in Sahiwal',\n",
       " 'Tajammal lives in Sahiwal']"
      ]
     },
     "execution_count": 101,
     "metadata": {},
     "output_type": "execute_result"
    }
   ],
   "source": [
    "lst3.append(\"Tajammal lives in Sahiwal\")\n",
    "lst3"
   ]
  },
  {
   "cell_type": "code",
   "execution_count": 102,
   "id": "4af4f76e-6b87-4e61-9ea9-5e66e1376ca8",
   "metadata": {},
   "outputs": [
    {
     "data": {
      "text/plain": [
       "['Sahiwal',\n",
       " 'Chak',\n",
       " 'Hussain',\n",
       " 'Tajammal',\n",
       " 'Tajammal lives in Sahiwal',\n",
       " 'Tajammal lives in Sahiwal',\n",
       " 'Tajammal lives in Sahiwal']"
      ]
     },
     "execution_count": 102,
     "metadata": {},
     "output_type": "execute_result"
    }
   ],
   "source": [
    "lst3"
   ]
  },
  {
   "cell_type": "code",
   "execution_count": 104,
   "id": "fabb6b47-6f42-4ad3-8ac0-34d29d2cb3cf",
   "metadata": {},
   "outputs": [
    {
     "data": {
      "text/plain": [
       "[20, 302, 23, 305, 3, 5, 8, 340, 59, 3420]"
      ]
     },
     "execution_count": 104,
     "metadata": {},
     "output_type": "execute_result"
    }
   ],
   "source": [
    "lst4=[20,302,23,305,3,5,8,340,59,3420]\n",
    "lst4"
   ]
  },
  {
   "cell_type": "code",
   "execution_count": 106,
   "id": "2a3c0274-cd30-4d50-b798-a1e8ff679c55",
   "metadata": {},
   "outputs": [
    {
     "data": {
      "text/plain": [
       "[3, 5, 8, 20, 23, 59, 302, 305, 340, 3420]"
      ]
     },
     "execution_count": 106,
     "metadata": {},
     "output_type": "execute_result"
    }
   ],
   "source": [
    "lst4.sort()\n",
    "lst4"
   ]
  },
  {
   "cell_type": "code",
   "execution_count": 112,
   "id": "0edce3d5-156c-46e0-aa88-9f952409945e",
   "metadata": {},
   "outputs": [
    {
     "data": {
      "text/plain": [
       "1"
      ]
     },
     "execution_count": 112,
     "metadata": {},
     "output_type": "execute_result"
    }
   ],
   "source": [
    "lst4.count(3)"
   ]
  },
  {
   "cell_type": "code",
   "execution_count": 113,
   "id": "ad32fbd4-372d-4903-bbd0-8fe7506d0b21",
   "metadata": {},
   "outputs": [
    {
     "data": {
      "text/plain": [
       "[3, 5, 20, 23, 59, 302, 305, 340, 3420]"
      ]
     },
     "execution_count": 113,
     "metadata": {},
     "output_type": "execute_result"
    }
   ],
   "source": [
    "lst4.remove(8)\n",
    "lst4"
   ]
  },
  {
   "cell_type": "code",
   "execution_count": 114,
   "id": "ffdf889b-cb0a-460f-b4cb-4b5b6167c9c0",
   "metadata": {},
   "outputs": [
    {
     "data": {
      "text/plain": [
       "9"
      ]
     },
     "execution_count": 114,
     "metadata": {},
     "output_type": "execute_result"
    }
   ],
   "source": [
    "len(lst4)"
   ]
  },
  {
   "cell_type": "markdown",
   "id": "c7f9b761-d178-42d3-baad-1f727a7378fb",
   "metadata": {},
   "source": [
    "## - Dictionieries\n",
    "- An ordered collection of elements.\n",
    "- Key and value\n",
    "- use with curly braces / brackets. {}\n",
    "- Mutateable, value can be changed."
   ]
  },
  {
   "cell_type": "code",
   "execution_count": 115,
   "id": "ae12709c-b649-44c7-94bf-6e8c0961f941",
   "metadata": {},
   "outputs": [
    {
     "data": {
      "text/plain": [
       "{'Samosa': 50, 'Pakora': 30, 'Raita': 20, 'Salad': 40, 'Chicken Kebab': 100}"
      ]
     },
     "execution_count": 115,
     "metadata": {},
     "output_type": "execute_result"
    }
   ],
   "source": [
    "food1={\"Samosa\":50, \"Pakora\":30, \"Raita\":20, \"Salad\":40, \"Chicken Kebab\":100}\n",
    "food1"
   ]
  },
  {
   "cell_type": "code",
   "execution_count": 116,
   "id": "347fd132-944f-4d27-86a7-7c9cefe65f47",
   "metadata": {},
   "outputs": [
    {
     "data": {
      "text/plain": [
       "dict"
      ]
     },
     "execution_count": 116,
     "metadata": {},
     "output_type": "execute_result"
    }
   ],
   "source": [
    "type(food1)"
   ]
  },
  {
   "cell_type": "code",
   "execution_count": 117,
   "id": "87122437-5fdc-4d09-a3fe-febc4e96bc98",
   "metadata": {},
   "outputs": [
    {
     "data": {
      "text/plain": [
       "dict_keys(['Samosa', 'Pakora', 'Raita', 'Salad', 'Chicken Kebab'])"
      ]
     },
     "execution_count": 117,
     "metadata": {},
     "output_type": "execute_result"
    }
   ],
   "source": [
    "#extract data from dictionery\n",
    "keys=food1.keys()\n",
    "keys"
   ]
  },
  {
   "cell_type": "code",
   "execution_count": 119,
   "id": "d0b0158c-d3de-4a78-9f71-08b9b852df46",
   "metadata": {},
   "outputs": [
    {
     "data": {
      "text/plain": [
       "dict_values([50, 30, 20, 40, 100])"
      ]
     },
     "execution_count": 119,
     "metadata": {},
     "output_type": "execute_result"
    }
   ],
   "source": [
    "values=food1.values()\n",
    "values"
   ]
  },
  {
   "cell_type": "code",
   "execution_count": 126,
   "id": "fbb803e5-8d07-46ed-a764-ae4ab2c4e791",
   "metadata": {},
   "outputs": [
    {
     "data": {
      "text/plain": [
       "{'Samosa': 50,\n",
       " 'Pakora': 30,\n",
       " 'Raita': 20,\n",
       " 'Salad': 40,\n",
       " 'Chicken Kebab': 100,\n",
       " 'Tikki': 25}"
      ]
     },
     "execution_count": 126,
     "metadata": {},
     "output_type": "execute_result"
    }
   ],
   "source": [
    "# adding new element in dictionery\n",
    "food1[\"Tikki\"]=25\n",
    "food1"
   ]
  },
  {
   "cell_type": "code",
   "execution_count": 127,
   "id": "f1c8e76b-6f7e-403f-bc0e-bc4116fcc2ea",
   "metadata": {},
   "outputs": [
    {
     "data": {
      "text/plain": [
       "{'Samosa': 50,\n",
       " 'Pakora': 30,\n",
       " 'Raita': 20,\n",
       " 'Salad': 40,\n",
       " 'Chicken Kebab': 100,\n",
       " 'Tikki': 20}"
      ]
     },
     "execution_count": 127,
     "metadata": {},
     "output_type": "execute_result"
    }
   ],
   "source": [
    "#update the values\n",
    "food1[\"Tikki\"]=20\n",
    "food1"
   ]
  },
  {
   "cell_type": "code",
   "execution_count": 128,
   "id": "80632f65-8525-4a17-ae67-a8db52e7e7f7",
   "metadata": {},
   "outputs": [
    {
     "data": {
      "text/plain": [
       "{'Chocolate': 30, 'Sawayyan': 1000, 'Milk': 400}"
      ]
     },
     "execution_count": 128,
     "metadata": {},
     "output_type": "execute_result"
    }
   ],
   "source": [
    "food2={\"Chocolate\":30, \"Sawayyan\":1000, \"Milk\":400}\n",
    "food2"
   ]
  },
  {
   "cell_type": "code",
   "execution_count": 132,
   "id": "f2ad46ec-69ce-480a-bfcc-20a1038b6339",
   "metadata": {},
   "outputs": [
    {
     "data": {
      "text/plain": [
       "{'Samosa': 50,\n",
       " 'Pakora': 30,\n",
       " 'Raita': 20,\n",
       " 'Salad': 40,\n",
       " 'Chicken Kebab': 100,\n",
       " 'Tikki': 20,\n",
       " 'Chocolate': 30,\n",
       " 'Sawayyan': 1000,\n",
       " 'Milk': 400}"
      ]
     },
     "execution_count": 132,
     "metadata": {},
     "output_type": "execute_result"
    }
   ],
   "source": [
    "#concatinate, you couldn't concatinate two dictionaries by using \"+\" should use update attribute.\n",
    "food1.update(food2)\n",
    "food1"
   ]
  },
  {
   "cell_type": "markdown",
   "id": "1e94a1eb-66f4-4ff7-aec3-19045dc7de62",
   "metadata": {},
   "source": [
    "### 04-Set\n",
    "- Unordered and unindexed\n",
    "- Used with curly braces { }\n",
    "- No duplicates allowed."
   ]
  },
  {
   "cell_type": "code",
   "execution_count": 139,
   "id": "909d66f1-c9a7-4cbb-b395-39342d0bdfad",
   "metadata": {},
   "outputs": [
    {
     "data": {
      "text/plain": [
       "{4, 6.9, 7, 9, 'Faisalabad', False, 'Tajammal', True}"
      ]
     },
     "execution_count": 139,
     "metadata": {},
     "output_type": "execute_result"
    }
   ],
   "source": [
    "s1 = {4,7,9, \"Faisalabad\", 6.9, \"Tajammal\", True, False}\n",
    "s1"
   ]
  },
  {
   "cell_type": "code",
   "execution_count": 140,
   "id": "1bcf3767-0413-45f9-a759-55a6ed9949e0",
   "metadata": {},
   "outputs": [
    {
     "data": {
      "text/plain": [
       "set"
      ]
     },
     "execution_count": 140,
     "metadata": {},
     "output_type": "execute_result"
    }
   ],
   "source": [
    "type(s1)"
   ]
  },
  {
   "cell_type": "code",
   "execution_count": 142,
   "id": "f62282f9-5f21-4128-b3ad-cf8b4e2e687c",
   "metadata": {},
   "outputs": [
    {
     "data": {
      "text/plain": [
       "{4, 6.9, 7, 9, 'Faisalabad', False, 'Hussain', 'Tajammal', True}"
      ]
     },
     "execution_count": 142,
     "metadata": {},
     "output_type": "execute_result"
    }
   ],
   "source": [
    "s1.add(\"Hussain\")\n",
    "s1"
   ]
  },
  {
   "cell_type": "code",
   "execution_count": 147,
   "id": "4b090812-df3c-4e34-9a65-7bd88bae562f",
   "metadata": {},
   "outputs": [
    {
     "data": {
      "text/plain": [
       "{2, 20, 5, 'Pakistan', 'Sahiwal', 'Tajammal', True}"
      ]
     },
     "execution_count": 147,
     "metadata": {},
     "output_type": "execute_result"
    }
   ],
   "source": [
    "s2={5, 2, 20, \"Tajammal\", \"Sahiwal\", \"Pakistan\", True}\n",
    "s2"
   ]
  },
  {
   "cell_type": "code",
   "execution_count": 150,
   "id": "351a4601-fa4f-4805-a063-f5b115e796f1",
   "metadata": {},
   "outputs": [
    {
     "data": {
      "text/plain": [
       "{4, 6.9, 7, 9, 'Faisalabad', 'Faisalabad1', False, 'Hussain', 'Tajammal', True}"
      ]
     },
     "execution_count": 150,
     "metadata": {},
     "output_type": "execute_result"
    }
   ],
   "source": [
    "s1.add(\"Faisalabad1\")\n",
    "s1"
   ]
  },
  {
   "cell_type": "code",
   "execution_count": 153,
   "id": "9473ccba-66f6-4b53-aa88-461174acd837",
   "metadata": {},
   "outputs": [
    {
     "data": {
      "text/plain": [
       "{4, 6.9, 7, 9, 'Faisalabad', 'Faisalabad1', False, 'Hussain', 'Tajammal', True}"
      ]
     },
     "execution_count": 153,
     "metadata": {},
     "output_type": "execute_result"
    }
   ],
   "source": [
    "s1.add(\"Faisalabad1\")\n",
    "s1"
   ]
  },
  {
   "cell_type": "code",
   "execution_count": 155,
   "id": "d78376cd-deb9-4208-8f40-2764b34d298a",
   "metadata": {},
   "outputs": [
    {
     "data": {
      "text/plain": [
       "{4, 6.9, 7, 9, False, 'Hussain', 'Tajammal', True}"
      ]
     },
     "execution_count": 155,
     "metadata": {},
     "output_type": "execute_result"
    }
   ],
   "source": [
    "s1.remove(\"Faisalabad1\")\n",
    "s1"
   ]
  },
  {
   "cell_type": "code",
   "execution_count": null,
   "id": "10b85f60-a404-4cee-9f93-ea5fd5f0048f",
   "metadata": {},
   "outputs": [],
   "source": []
  }
 ],
 "metadata": {
  "kernelspec": {
   "display_name": "Python 3 (ipykernel)",
   "language": "python",
   "name": "python3"
  },
  "language_info": {
   "codemirror_mode": {
    "name": "ipython",
    "version": 3
   },
   "file_extension": ".py",
   "mimetype": "text/x-python",
   "name": "python",
   "nbconvert_exporter": "python",
   "pygments_lexer": "ipython3",
   "version": "3.11.7"
  }
 },
 "nbformat": 4,
 "nbformat_minor": 5
}
