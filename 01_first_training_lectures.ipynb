{
 "cells": [
  {
   "cell_type": "markdown",
   "id": "d7fb5fe5-9a43-4c9f-a092-c1f82faa0539",
   "metadata": {},
   "source": [
    "# Python ka Chilla with #Baba_Aammar\n",
    "## Saving codes in jupyter."
   ]
  },
  {
   "cell_type": "markdown",
   "id": "30525793-4efa-41fc-b253-e1669065b7fa",
   "metadata": {},
   "source": [
    "**My First Program**"
   ]
  },
  {
   "cell_type": "code",
   "execution_count": 1,
   "id": "2949217d-6550-47c6-85fb-689cdd2ba1be",
   "metadata": {},
   "outputs": [
    {
     "name": "stdout",
     "output_type": "stream",
     "text": [
      "10\n",
      "Hello Tajammal\n",
      "This is my frist pythong program.\n"
     ]
    }
   ],
   "source": [
    "print(3+7)\n",
    "print(\"Hello Tajammal\")\n",
    "print(\"This is my frist pythong program.\")"
   ]
  },
  {
   "cell_type": "markdown",
   "id": "da6da844-d855-4929-9aee-be9d8bf56f15",
   "metadata": {},
   "source": [
    "**02 Operators**"
   ]
  },
  {
   "cell_type": "code",
   "execution_count": 2,
   "id": "67ff94b3-5158-4e6e-8ba2-f03ace1c78f6",
   "metadata": {},
   "outputs": [
    {
     "name": "stdout",
     "output_type": "stream",
     "text": [
      "14\n",
      "9\n",
      "21\n",
      "4.0\n",
      "4\n",
      "1\n",
      "125\n"
     ]
    }
   ],
   "source": [
    "print(9+5)\n",
    "print(20-11)\n",
    "print(7*3)\n",
    "print(20/5)\n",
    "print(20//5)\n",
    "print(21%2)\n",
    "print(5**3)"
   ]
  },
  {
   "cell_type": "markdown",
   "id": "5fe2c829-1e23-43bc-857f-b65689a00594",
   "metadata": {},
   "source": [
    "**03 Strings**"
   ]
  },
  {
   "cell_type": "code",
   "execution_count": 3,
   "id": "d90cfa76-8794-4229-9317-0f17e7237341",
   "metadata": {},
   "outputs": [
    {
     "name": "stdout",
     "output_type": "stream",
     "text": [
      "Tajammal Hussain\n",
      "Tajammul Hussain\n",
      "Hussain Tajammal\n"
     ]
    }
   ],
   "source": [
    "print(\"Tajammal Hussain\")\n",
    "print('Tajammul Hussain')\n",
    "print('''Hussain Tajammal''')"
   ]
  },
  {
   "cell_type": "markdown",
   "id": "1d9bc76e-52dc-4480-b31d-26fa3578f945",
   "metadata": {},
   "source": [
    "**04 Comments**\n",
    "*To comment lines select and pres (Ctrl+/)"
   ]
  },
  {
   "cell_type": "code",
   "execution_count": 4,
   "id": "2bbfcb84-9344-4765-a9ec-97f5c8fa8f46",
   "metadata": {},
   "outputs": [
    {
     "name": "stdout",
     "output_type": "stream",
     "text": [
      "Welcome to comment section\n",
      "Commenting section to check comments.\n",
      "8\n"
     ]
    }
   ],
   "source": [
    "# To comment out a line write \"#\" before the line.\n",
    "# OR select the multiple lines and press \"Ctrl + /\" to comment out.\n",
    "# The \"#\" sing will be placed before everyline.\n",
    "\n",
    "print(\"Welcome to comment section\")\n",
    "print(\"Commenting section to check comments.\") #Inline Comment\n",
    "print(5+3)"
   ]
  },
  {
   "cell_type": "markdown",
   "id": "9684fb66-81d2-464b-8f42-b8e7e93c66d7",
   "metadata": {},
   "source": [
    "**05 Veriables**"
   ]
  },
  {
   "cell_type": "code",
   "execution_count": 5,
   "id": "68d215f2-ad72-4e07-a136-5e2be151f3be",
   "metadata": {},
   "outputs": [
    {
     "name": "stdout",
     "output_type": "stream",
     "text": [
      "2\n",
      "We are learning python with Ammar Baba\n",
      "12\n",
      "<class 'int'>\n",
      "<class 'str'>\n",
      "Mangoes\n",
      "<class 'str'>\n"
     ]
    }
   ],
   "source": [
    "#veriables: objects containing specific values.\n",
    "x=2 #numaric or integer variable\n",
    "print(x)\n",
    "\n",
    "y=\"We are learning python with Ammar Baba\" #string veriable\n",
    "print(y)\n",
    "\n",
    "x=x+10 #x=12  #addition in previous veriable value.\n",
    "print(x)\n",
    "\n",
    "#type / class of veriables\n",
    "type(x)\n",
    "print(type(x))\n",
    "\n",
    "print(type(y))\n",
    "\n",
    "\n",
    "\n",
    "# Rules for defining of variables\n",
    "#1- Variable name should contains letters, numbers or underscores.\n",
    "#2- Do not start with numbers.\n",
    "#3- Spaces are not allowed.\n",
    "#4- Don't use keywords used in functins (e.g. print, pass, media, etc...)\n",
    "#5- Should be short and descrptive\n",
    "#6- case senstivity (Lowercase, Uppercase letter, lowercase letters should be used.)\n",
    "\n",
    "fruit_basket=\"Mangoes\"\n",
    "print(fruit_basket)\n",
    "print(type(fruit_basket))"
   ]
  },
  {
   "cell_type": "markdown",
   "id": "df77b0bb-07ba-41e5-890c-ae30b28b541b",
   "metadata": {},
   "source": [
    "**06 Input Veriables**"
   ]
  },
  {
   "cell_type": "code",
   "execution_count": 6,
   "id": "97595587-1ce8-4470-a21d-b24465a5d397",
   "metadata": {},
   "outputs": [
    {
     "name": "stdout",
     "output_type": "stream",
     "text": [
      "Mangoes\n"
     ]
    },
    {
     "name": "stdin",
     "output_type": "stream",
     "text": [
      "What is your favourite fruit?  Mangoes\n"
     ]
    },
    {
     "name": "stdout",
     "output_type": "stream",
     "text": [
      "Mangoes\n"
     ]
    },
    {
     "name": "stdin",
     "output_type": "stream",
     "text": [
      "What is your name?  Tajammal\n"
     ]
    },
    {
     "name": "stdout",
     "output_type": "stream",
     "text": [
      "Hello! Tajammal\n"
     ]
    },
    {
     "name": "stdin",
     "output_type": "stream",
     "text": [
      "What is your name?  Tajammal\n"
     ]
    },
    {
     "name": "stdout",
     "output_type": "stream",
     "text": [
      "Hello! Tajammal\n"
     ]
    },
    {
     "name": "stdin",
     "output_type": "stream",
     "text": [
      "What is your name?  Tajammal\n",
      "How old are you?  29\n"
     ]
    },
    {
     "name": "stdout",
     "output_type": "stream",
     "text": [
      "Hello! Tajammal , You are still young.\n"
     ]
    }
   ],
   "source": [
    "fruit_basket=\"Mangoes\"\n",
    "print(fruit_basket)\n",
    "\n",
    "#input variables to get data by typing\n",
    "\n",
    "fruit_basket=input(\"What is your favourite fruit? \")\n",
    "print(fruit_basket)\n",
    "\n",
    "#input function of 2nd stage\n",
    "name=input(\"What is your name? \")\n",
    "greetings=\"Hello!\"\n",
    "print(greetings, name)\n",
    "\n",
    "#input function of 2nd stage method 2.\n",
    "name=input(\"What is your name? \")\n",
    "print(\"Hello!\", name)\n",
    "\n",
    "\n",
    "#3rd stage of input function\n",
    "name=input(\"What is your name? \")\n",
    "age=input(\"How old are you? \")\n",
    "greetings=\"Hello!\"\n",
    "print(greetings, name, \", You are still young.\")"
   ]
  },
  {
   "cell_type": "markdown",
   "id": "6ef2d8f0-0cce-47b0-a16d-7b8cfc9de800",
   "metadata": {},
   "source": [
    "**07 Conditional Logical Operators**"
   ]
  },
  {
   "cell_type": "code",
   "execution_count": 7,
   "id": "cf498901-f10f-4e8d-a103-ee1a4f683809",
   "metadata": {},
   "outputs": [
    {
     "name": "stdin",
     "output_type": "stream",
     "text": [
      "What is age of Hammad?  5\n"
     ]
    },
    {
     "name": "stdout",
     "output_type": "stream",
     "text": [
      "<class 'int'>\n",
      "True\n"
     ]
    }
   ],
   "source": [
    "#conditional logical operators.\n",
    "#logical operators are \"true or false\" or \"yes or no\" or \"0 or 1\"\n",
    "#equal to                   ==\n",
    "#not equal to               !=\n",
    "#greater than               >\n",
    "#less than                  <\n",
    "#greater than or equal to   >=\n",
    "#less than of equal to      <=\n",
    "\n",
    "# #is 4 equal to 4\n",
    "# print(4==4)\n",
    "# print(3!=5)\n",
    "# print(7<9)\n",
    "# print(7>9)\n",
    "# print(6<=12)\n",
    "# print(6>=12)\n",
    "\n",
    "# #application of logical operators\n",
    "# hammad_age=4\n",
    "# age_at_school=5\n",
    "# print(hammad_age == age_at_school)\n",
    "\n",
    "#input function and loigcal operators\n",
    "age_at_school=5\n",
    "hammad_age=input(\"What is age of Hammad? \")\n",
    "\n",
    "#converting veriable type from string to integer.\n",
    "hammad_age=int(hammad_age)\n",
    "print(type(hammad_age))\n",
    "print(age_at_school==hammad_age)"
   ]
  },
  {
   "cell_type": "markdown",
   "id": "71e0f9a2-415e-4f76-9469-f29c2f1e0a69",
   "metadata": {},
   "source": [
    "**08 Type Conversion**"
   ]
  },
  {
   "cell_type": "code",
   "execution_count": 8,
   "id": "6cfa4096-8e92-404a-8543-e1312f96f592",
   "metadata": {},
   "outputs": [
    {
     "name": "stdin",
     "output_type": "stream",
     "text": [
      "What is your age?  9\n"
     ]
    },
    {
     "name": "stdout",
     "output_type": "stream",
     "text": [
      "9 Type of age is:  <class 'int'>\n"
     ]
    }
   ],
   "source": [
    "# # Type conversion\n",
    "# x=5         #integer\n",
    "# y=10.2      #float\n",
    "# z=\"Hello\"   #string\n",
    "# x=x*y\n",
    "# print(x, type(x))\n",
    "\n",
    "# #implicit type conversion\n",
    "# age=input(\"What is your age? \")\n",
    "# print(age, type(age))\n",
    "# age=int(age)\n",
    "# print(age, \"Type of age is:\", type(age))\n",
    "\n",
    "#explicit type conersiona\n",
    "age=input(\"What is your age? \")\n",
    "print(age, \"Type of age is: \", type(int(age)))"
   ]
  },
  {
   "cell_type": "markdown",
   "id": "032c49cf-4302-4048-844e-260394604abd",
   "metadata": {},
   "source": [
    "**09 if elif else**"
   ]
  },
  {
   "cell_type": "code",
   "execution_count": 9,
   "id": "9a348d67-5396-4854-84ff-8885b7289760",
   "metadata": {},
   "outputs": [
    {
     "name": "stdout",
     "output_type": "stream",
     "text": [
      "Hammad should join higher classes.\n"
     ]
    }
   ],
   "source": [
    "required_age_school=5\n",
    "hammad_age=6\n",
    "\n",
    "# Question: can hammad go to school?\n",
    "if hammad_age==required_age_school:\n",
    "    print(\"Hammad can go to school.\")\n",
    "elif hammad_age>required_age_school:\n",
    "    print(\"Hammad should join higher classes.\")\n",
    "else:\n",
    "    print(\"Hammad is underage.\")"
   ]
  },
  {
   "cell_type": "markdown",
   "id": "9082d372-ff57-4bdd-b38f-50962dbbf6d6",
   "metadata": {},
   "source": [
    "**10 Functions**"
   ]
  },
  {
   "cell_type": "code",
   "execution_count": 10,
   "id": "2151ad10-e2ff-4091-a002-4387d1030dc8",
   "metadata": {},
   "outputs": [
    {
     "name": "stdout",
     "output_type": "stream",
     "text": [
      "Hammad is still a baby.\n",
      "29\n"
     ]
    }
   ],
   "source": [
    "# #defining a function\n",
    "# #1 method\n",
    "# def print_codanics():\n",
    "#     print(\"We are learning python with Aammar.\")\n",
    "#     print(\"We are learning python with Aammar.\")\n",
    "#     print(\"We are learning python with Aammar.\")\n",
    "\n",
    "# print_codanics()\n",
    "\n",
    "# # 2 method\n",
    "# def print_codanics():\n",
    "#     text=\"We are learningp python with Aammar\"\n",
    "#     print(text)\n",
    "#     print(text)\n",
    "#     print(text)\n",
    "\n",
    "# print_codanics()\n",
    "\n",
    "# # 3 mehtod\n",
    "# def print_codanics(text):\n",
    "#     print(text)\n",
    "#     print(text)\n",
    "#     print(text)\n",
    "# print_codanics(\"We are learning python with Aammar\")\n",
    "\n",
    "\n",
    "#defining a function with if, elif, else statement.\n",
    "def school_calculator(age):\n",
    "    if age==5:\n",
    "        print(\"Hammad can join the school.\")\n",
    "    elif age>5:\n",
    "        print(\"Hammad should go high school.\")\n",
    "    else:\n",
    "        print(\"Hammad is still a baby.\")\n",
    "school_calculator(2)\n",
    "\n",
    "#defining a function of future age\n",
    "def future_age(age):\n",
    "    new_age=age+20\n",
    "    return new_age\n",
    "predicted_future_age=future_age(9)\n",
    "print(predicted_future_age)\n",
    "\n",
    "#Completed."
   ]
  },
  {
   "cell_type": "markdown",
   "id": "74ad2989-55c6-4edc-aceb-99fb4e895795",
   "metadata": {},
   "source": [
    "**11 loops**"
   ]
  },
  {
   "cell_type": "code",
   "execution_count": 11,
   "id": "c2621e36-a4c0-448b-a754-7088ded23675",
   "metadata": {},
   "outputs": [
    {
     "name": "stdout",
     "output_type": "stream",
     "text": [
      "Sun\n",
      "Mon\n",
      "Tue\n",
      "Wed\n",
      "Fri\n",
      "Sat\n"
     ]
    }
   ],
   "source": [
    "#loops, while and for loops.\n",
    "#while loop\n",
    "\n",
    "# x=0\n",
    "# while (x<=5):\n",
    "#     print(x)\n",
    "#     x=x+1\n",
    "\n",
    "# #for loop\n",
    "# for x in range(5,10):\n",
    "#     print(x)\n",
    "\n",
    "#array for loop\n",
    "days= [\"Sun\", \"Mon\", \"Tue\", \"Wed\", \"Thu\", \"Fri\", \"Sat\"]\n",
    "for d in days:\n",
    "    # if d==\"Tue\": break # stops the loop when found Friday\n",
    "    if d==\"Thu\": continue #stops the loop on Thu and then continue from Fri\n",
    "    print(d)"
   ]
  },
  {
   "cell_type": "markdown",
   "id": "9c70408d-fc92-4d0d-bea3-9931f8a4583b",
   "metadata": {},
   "source": [
    "**12 Import of Libraries**"
   ]
  },
  {
   "cell_type": "code",
   "execution_count": 12,
   "id": "02acceb8-b19d-45c6-99d0-462caadcf4ce",
   "metadata": {},
   "outputs": [
    {
     "name": "stdout",
     "output_type": "stream",
     "text": [
      "The value of pi is:  3.141592653589793\n",
      "The mean of mentinoed values is:  220\n"
     ]
    }
   ],
   "source": [
    "#import Libraries\n",
    "\n",
    "#if you want to print the value of pi.\n",
    "\n",
    "#math library\n",
    "import math\n",
    "x=5\n",
    "print(\"The value of pi is: \", math.pi)\n",
    "\n",
    "#statistics library\n",
    "import statistics\n",
    "x=[250,300,10,320]\n",
    "print(\"The mean of mentinoed values is: \", statistics.mean(x))\n",
    "\n",
    "#important libraries\n",
    "#numpy, pandas"
   ]
  },
  {
   "cell_type": "markdown",
   "id": "a4bebfd5-bd4d-426b-bfb5-b52d93ca5e41",
   "metadata": {},
   "source": [
    "**13 Trouble Shooting**"
   ]
  },
  {
   "cell_type": "code",
   "execution_count": 13,
   "id": "99c2b7d0-1001-48d1-90bc-64b7898bb97f",
   "metadata": {},
   "outputs": [
    {
     "name": "stdout",
     "output_type": "stream",
     "text": [
      "Hello name\n",
      "Hellow Tajammal\n",
      "HelloTajammal\n"
     ]
    }
   ],
   "source": [
    "#Trouble Shooting\n",
    "\n",
    "#type 1 error\n",
    "# print(We are learning python with Aammar) #this will show syntax error due to inverted commas.\n",
    "\n",
    "#type 2 error\n",
    "# print(25/0) #run time error (zero division error)\n",
    "\n",
    "#type 3 error\n",
    "name=\"Tajammal\"\n",
    "print(\"Hello name\") #symmentic error, using variables as text string.\n",
    "print(\"Hellow\", name)\n",
    "print(\"Hello\"+name) #use \"+\" instead \",\" to remove space between two values.\n",
    "\n",
    "#trouble_shooting completed."
   ]
  }
 ],
 "metadata": {
  "kernelspec": {
   "display_name": "Python 3 (ipykernel)",
   "language": "python",
   "name": "python3"
  },
  "language_info": {
   "codemirror_mode": {
    "name": "ipython",
    "version": 3
   },
   "file_extension": ".py",
   "mimetype": "text/x-python",
   "name": "python",
   "nbconvert_exporter": "python",
   "pygments_lexer": "ipython3",
   "version": "3.11.7"
  }
 },
 "nbformat": 4,
 "nbformat_minor": 5
}
